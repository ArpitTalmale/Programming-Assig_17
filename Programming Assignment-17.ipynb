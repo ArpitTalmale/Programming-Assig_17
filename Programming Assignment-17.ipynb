{
 "cells": [
  {
   "cell_type": "markdown",
   "id": "56989205",
   "metadata": {},
   "source": [
    "### 1.Create a function that takes three arguments a, b, c and returns the sum of the numbers that are evenly divided by c from the range a, b inclusive ?\n",
    "Examples:\n",
    "evenly_divisible(1, 10, 20) ➞ 0 # No number between 1 and 10 can be evenly divided by 20. evenly_divisible(1, 10, 2) ➞ 30 # 2 + 4 + 6 + 8 + 10 = 30 evenly_divisible(1, 10, 3) ➞ 18 # 3 + 6 + 9 = 18"
   ]
  },
  {
   "cell_type": "code",
   "execution_count": 2,
   "id": "5fbcfb01",
   "metadata": {},
   "outputs": [
    {
     "name": "stdout",
     "output_type": "stream",
     "text": [
      "(1, 10, 20) --> 0\n",
      "(1, 10, 2) --> 30\n",
      "(1, 10, 3) --> 18\n"
     ]
    }
   ],
   "source": [
    "#Solution:-\n",
    "\n",
    "def function(a,b,c):\n",
    "    num_sum = []\n",
    "    for i in range(a,b+1):\n",
    "        if i%c==0:\n",
    "            num_sum.append(i)\n",
    "    print(f\"{a,b,c} --> {sum(num_sum)}\")        \n",
    "    \n",
    "function(1,10,20)\n",
    "function(1,10,2)\n",
    "function(1,10,3)\n",
    "\n",
    "            "
   ]
  },
  {
   "cell_type": "markdown",
   "id": "50c1f79e",
   "metadata": {},
   "source": [
    "### 2.Create a function that returns True if a given inequality expression is correct and False otherwise ?"
   ]
  },
  {
   "cell_type": "markdown",
   "id": "b0204ef7",
   "metadata": {},
   "source": [
    "Examples:\n",
    "1>correct_signs(\"3 < 7 < 11\") ➞ True\n",
    "2>correct_signs(\"13 > 44 > 33 > 1\") ➞ False\n",
    "3>correct_signs(\"1 < 2 < 6 < 9 > 3\") ➞ True"
   ]
  },
  {
   "cell_type": "code",
   "execution_count": 3,
   "id": "8af01f37",
   "metadata": {},
   "outputs": [
    {
     "name": "stdout",
     "output_type": "stream",
     "text": [
      "Enter the expression:-3 < 7 < 11\n",
      "3 < 7 < 11 --> True\n",
      "Enter the expression:-3 > 44 > 33 > 1\n",
      "3 > 44 > 33 > 1 --> False\n",
      "Enter the expression:-1 < 2 < 6 < 9 > 3\n",
      "1 < 2 < 6 < 9 > 3 --> True\n"
     ]
    }
   ],
   "source": [
    "#Solution:-\n",
    "\n",
    "def program():\n",
    "    user_input = input(\"Enter the expression:-\")\n",
    "    output = eval(user_input)\n",
    "    print(f\"{user_input} --> {output}\")\n",
    "for i in range(3):\n",
    "    program()"
   ]
  },
  {
   "cell_type": "markdown",
   "id": "15523075",
   "metadata": {},
   "source": [
    "### 3.Create a function that replaces all the vowels in a string with a specified character ?\n",
    "Examples:\n",
    "\n",
    "(1)replace_vowels(\"the aardvark\", \"#\") ➞ \"th# ##rdv#rk\"\n",
    "(2)replace_vowels(\"minnie mouse\", \"?\") ➞ \"m?nn?? m??s?\"\n",
    "(3)replace_vowels(\"shakespeare\", \"*\") ➞ \"shksp**r\""
   ]
  },
  {
   "cell_type": "code",
   "execution_count": 5,
   "id": "f9de0556",
   "metadata": {},
   "outputs": [
    {
     "name": "stdout",
     "output_type": "stream",
     "text": [
      "Enter a string:-the aardvark\n",
      "Enter a replace key:-#\n",
      " the aardvark # --> th# ##rdv#rk\n",
      "Enter a string:-minnie mouse\n",
      "Enter a replace key:-?\n",
      " minnie mouse ? --> m?nn?? m??s?\n",
      "Enter a string:-shakespeare\n",
      "Enter a replace key:-*\n",
      " shakespeare * --> sh*k*sp**r*\n"
     ]
    }
   ],
   "source": [
    "#Solution:-\n",
    "\n",
    "def spec_char():\n",
    "    a = input(\"Enter a string:-\")\n",
    "    b = ['a','e','i','o','u','A','E','I','O','U']\n",
    "    c = a\n",
    "    replace_key = input(\"Enter a replace key:-\")\n",
    "    for char in a:\n",
    "        if char in b:\n",
    "            a = a.replace(char,replace_key)\n",
    "                       \n",
    "    print(f\" {c} {replace_key} --> {a}\")\n",
    "                      \n",
    "for i in range(3): \n",
    "    spec_char()"
   ]
  },
  {
   "cell_type": "markdown",
   "id": "76d16613",
   "metadata": {},
   "source": [
    "###  4.Write a function that calculates the factorial of a number recursively ?\n",
    "\n",
    "Examples:\n",
    "\n",
    "1>factorial(5) ➞ 120\n",
    "2>factorial(3) ➞ 6\n",
    "3>factorial(1) ➞ 1\n",
    "4>factorial(0) ➞ 1"
   ]
  },
  {
   "cell_type": "code",
   "execution_count": 16,
   "id": "4d69712f",
   "metadata": {},
   "outputs": [
    {
     "name": "stdout",
     "output_type": "stream",
     "text": [
      "factorial(5) --> 120\n",
      "factorial(3))  --> 6\n",
      "factorial(1))  --> 1\n",
      "factorial(0))  --> 1\n"
     ]
    }
   ],
   "source": [
    "#Solution:-\n",
    "\n",
    "def factorial(num):\n",
    "    if num <= 1 :\n",
    "        return 1\n",
    "    else:\n",
    "        return(num * factorial(num-1))\n",
    "    \n",
    "print(f'factorial(5) --> {factorial(5)}')\n",
    "print(f'factorial(3))  --> {factorial(3)}')\n",
    "print(f'factorial(1))  --> {factorial(1)}')\n",
    "print(f'factorial(0))  --> {factorial(0)}')\n"
   ]
  },
  {
   "cell_type": "markdown",
   "id": "a53a59e2",
   "metadata": {},
   "source": [
    "### 5.Hamming distance is the number of characters that differ between two strings ?\n",
    "To illustrate:\n",
    "String1: \"abcbba\"\n",
    "String2: \"abcbda\"\n",
    "Hamming Distance: 1 - \"b\" vs. \"d\" is the only difference.\n",
    "Create a function that computes the hamming distance between two strings.\n",
    "\n",
    "Examples:\n",
    "<1>hamming_distance(\"abcde\", \"bcdef\") ➞ 5\n",
    "<2>hamming_distance(\"abcde\", \"abcde\") ➞ 0\n",
    "<3>hamming_distance(\"strong\", \"strung\") ➞ 1 "
   ]
  },
  {
   "cell_type": "code",
   "execution_count": 18,
   "id": "e3b4ada1",
   "metadata": {},
   "outputs": [
    {
     "name": "stdout",
     "output_type": "stream",
     "text": [
      "Enter a string1:-abcde\n",
      "Enter a string2:-bcdef\n",
      "Hamming distance between abcde and bcdef is:- 5\n",
      "Enter a string1:-abcde\n",
      "Enter a string2:-abcde\n",
      "Hamming distance between abcde and abcde is:- 0\n",
      "Enter a string1:-strong\n",
      "Enter a string2:-strung\n",
      "Hamming distance between strong and strung is:- 1\n"
     ]
    }
   ],
   "source": [
    "#Solution:-\n",
    "\n",
    "def hamming_dist():\n",
    "    str_1 = input(\"Enter a string1:-\")\n",
    "    str_2 = input(\"Enter a string2:-\")\n",
    "    if len(str_1) == len(str_2):\n",
    "        count = 0\n",
    "        for char in range(len(str_1)):\n",
    "            if str_1[char] != str_2[char]:\n",
    "                count += 1\n",
    "        print(f'Hamming distance between {str_1} and {str_2} is:- {count}')   \n",
    "    else:\n",
    "        print(\"The both string need to have same length\")\n",
    "        \n",
    "for i in range(3):        \n",
    "    hamming_dist()        \n",
    "        \n",
    "        "
   ]
  }
 ],
 "metadata": {
  "kernelspec": {
   "display_name": "Python 3 (ipykernel)",
   "language": "python",
   "name": "python3"
  },
  "language_info": {
   "codemirror_mode": {
    "name": "ipython",
    "version": 3
   },
   "file_extension": ".py",
   "mimetype": "text/x-python",
   "name": "python",
   "nbconvert_exporter": "python",
   "pygments_lexer": "ipython3",
   "version": "3.10.9"
  }
 },
 "nbformat": 4,
 "nbformat_minor": 5
}
